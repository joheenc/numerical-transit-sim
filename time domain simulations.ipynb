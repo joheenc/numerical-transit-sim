{
 "cells": [
  {
   "cell_type": "code",
   "execution_count": 10,
   "metadata": {},
   "outputs": [],
   "source": [
    "import numpy as np\n",
    "import matplotlib.pyplot as plt"
   ]
  },
  {
   "cell_type": "code",
   "execution_count": 2,
   "metadata": {},
   "outputs": [],
   "source": [
    "R1 = 1 #in Rj\n",
    "R2 = 1\n",
    "\n",
    "def rstep(t, i, R1, R2, anorm, e, tau1, tau2, Pbin):\n",
    "    nsteps = 200 #resolution of angular grid\n",
    "    Es = np.linspace(0, Pbin, nsteps)\n",
    "    ts = Es - e*np.sin(Es)\n",
    "    t = t % (Pbin)\n",
    "    E = Es[np.argmin(np.abs(ts - t))] #eccentric anomaly\n",
    "\n",
    "    a1 = anorm*(R2/R1)**3 #in Rj\n",
    "    a2 = anorm\n",
    "\n",
    "    r1 = np.array([np.cos(tau1)*a1*(np.cos(E*2*np.pi/Pbin)-e), np.sin(i)*np.cos(tau1)*a1*np.sqrt(1-e**2)*np.sin(E)])\n",
    "    r2 = np.array([np.cos(tau2)*a2*(np.cos(E*2*np.pi/Pbin)-e), np.sin(i)*np.cos(tau2)*a2*np.sqrt(1-e**2)*np.sin(E)])\n",
    "    return r1, r2\n",
    "\n",
    "def simulateorbits(i=90*(np.pi/180.), R1=1, R2=1, anorm=2, e=0, tau1=0, tau2=np.pi, Pbin=10,\\\n",
    "                   simlen=20., t=0, dt=0.01):\n",
    "    r1s = []\n",
    "    r2s = []\n",
    "    while t < simlen:\n",
    "        r1, r2 = rstep(t, i, R1, R2, anorm, e, tau1, tau2, Pbin)\n",
    "        r1s.append(r1)\n",
    "        r2s.append(r2)\n",
    "        t += dt\n",
    "    return np.array(r1s), np.array(r2s)\n",
    "\n",
    "def Pbin(R_p, R_s, a_sp):\n",
    "    Rjup = 7.149*10**7  #radius of Jupiter in m\n",
    "    Mjup = 1.899*10**27 #mass of Jupiter in kg\n",
    "    G = 6.6743*10**-11  #G in SI units\n",
    "    return 2*np.pi/3600 / np.sqrt(G*(R_p**3+R_s**3)*Mjup/(a_sp*(R_s+R_p)*Rjup)**3)\n",
    "\n",
    "def draworbits(r1s, r2s, M1, M2):\n",
    "    normdim = 6\n",
    "    xrange = max(max(np.max(r1s[:, 0]), np.max(r2s[:, 0]))-min(np.min(r1s[:, 0]), np.min(r2s[:, 0])), 2)\n",
    "    yrange = max(max(np.max(r1s[:, 1]), np.max(r2s[:, 1]))-min(np.min(r1s[:, 1]), np.min(r2s[:, 1])), 2)\n",
    "    plt.figure(figsize=(xrange/yrange*normdim, normdim))\n",
    "    plt.plot(r1s[:, 0], r1s[:, 1])\n",
    "    plt.plot(r2s[:, 0], r2s[:, 1])\n",
    "    plt.scatter(np.array((r1s*M1+r2s*M2)/(M1+M2))[:, 0], np.array((r1s*M1+r2s*M2)/(M1+M2))[:, 1])\n",
    "    plt.show()\n",
    "    plt.clf()\n",
    "    \n",
    "def areaOverlap(r1s, r2s, R1, R2):\n",
    "    d = np.linalg.norm(r2s-r1s, axis=1)\n",
    "    d1 = (R1**2 - R2**2 + d**2)/(2*d)\n",
    "    d2 = d - d1\n",
    "    A = R1**2 * np.arccos(d1/R1) - d1*np.sqrt(R1**2-d1**2) + R2**2 * np.arccos(d2/R2) - d2*np.sqrt(R2**2-d2**2) # intersection area\n",
    "    A[np.where(np.linalg.norm(r2s-r1s, axis=1) >= R1+R2)] = 0\n",
    "    A[np.where(np.linalg.norm(r2s-r1s, axis=1) <= np.abs(R1-R2))] = np.pi * min(R1, R2)**2\n",
    "    return A\n",
    "\n",
    "def intersection(x1, y1, x2, y2, R1, R2):\n",
    "    r1 = np.array([x1, y1])\n",
    "    r2 = np.array([x2, y2])\n",
    "    d = r2-r1 #distance between centers\n",
    "    if np.linalg.norm(d) > R1+R2 or np.linalg.norm(d) < np.abs(R1-R2): #cases of zero intersections\n",
    "        return np.array([])\n",
    "    elif np.linalg.norm(d) == R1+R2: #1 grazing intersection, circles have no overlap\n",
    "        return r1 + R1*(d/np.linalg.norm(d))\n",
    "    elif np.linalg.norm(d) == np.abs(R1-R2): #1 grazing intersection, one circle inside the other\n",
    "        if R1 < R2: #p1 contained within p2\n",
    "            return r1 - R1*(d/np.linalg.norm(d))\n",
    "        else:\n",
    "            return r1 + R1*(d/np.linalg.norm(d))\n",
    "    else: #case of 2 intersections\n",
    "        x = (np.linalg.norm(d)**2 + R1**2 - R2**2)/(2*np.linalg.norm(d))\n",
    "        theta = np.arccos(x/R1)\n",
    "        i1 = r1 + np.matmul(np.matrix([[np.cos(theta), np.sin(-theta)], [np.sin(theta), np.cos(theta)]]), \n",
    "                       (R1 * (d/np.linalg.norm(d))))[0]\n",
    "        i2 = r1 + np.matmul(np.matrix([[np.cos(theta), np.sin(theta)], [np.sin(-theta), np.cos(theta)]]), \n",
    "                       (R1 * (d/np.linalg.norm(d))))[0]\n",
    "        return np.array([i1, i2])\n",
    "\n",
    "def liesInCircle(x1, y1, x2, y2, R): #checks if point (x1, y1) lies within circle with center (x2, y2) and radius (R)\n",
    "    return ((x1 - x2)**2 + (y1 - y2)**2) <= R**2\n",
    "\n",
    "def threeAreaOverlap(data): #checks the area of overlap between ALL three circles\n",
    "    x1 = data[0] #planet 1\n",
    "    y1 = data[1]\n",
    "    x2 = data[2] #planet 2\n",
    "    y2 = data[3]\n",
    "    x3 = data[4] #star\n",
    "    y3 = data[5]\n",
    "    R1 = data[6] #planet 1\n",
    "    R2 = data[7] #planet 2\n",
    "    R3 = data[8] #star\n",
    "    r1 = np.array([x1, y1])\n",
    "    r2 = np.array([x2, y2])\n",
    "    r3 = np.array([x3, y3])\n",
    "    i12 = intersection(x1, y1, x2, y2, R1, R2)\n",
    "    i13 = intersection(x1, y1, x3, y3, R1, R3)\n",
    "    i23 = intersection(x2, y2, x3, y3, R2, R3)\n",
    "    if len(i13) < 2: #p1 lies completely inside or outside the star\n",
    "        if liesInCircle(x1, y1, x3, y3, R3): #p1 lies completely inside the star\n",
    "            return areaOverlap(np.array([np.array([x1, y1])]), np.array([np.array([x2, y2])]), \n",
    "                               R1, R2)[0] #give overlap of p1 and p2\n",
    "        else:\n",
    "            return 0.\n",
    "    elif len(i23) < 2: #p2 lies completely inside or outside the star\n",
    "        if liesInCircle(x2, y2, x3, y3, R3): #p2 lies completely inside the star\n",
    "            return areaOverlap(np.array([np.array([x1, y1])]), np.array([np.array([x2, y2])]), \n",
    "                               R1, R2)[0] #give overlap of p1 and p2\n",
    "        else:\n",
    "            return 0.\n",
    "    else: #p1 and p2 each have 2 intersections with the star\n",
    "        aas = np.zeros((3, 2))\n",
    "        bs = np.zeros((3, 2, 2))\n",
    "        Rs, sidelens, areas = [R1, R2, R3], np.zeros(3), np.zeros(3)\n",
    "        perms = [[i23, r1, R1], [i13, r2, R2], [i12, r3, R3]] #permutations of intersection and center points\n",
    "        for perm in range(len(perms)):\n",
    "            iis = perms[perm][0] #intersection points\n",
    "            valid = False #remains false when one planet's intersection with the star is a subset of the other\n",
    "                            #planet's intersection with the star\n",
    "            for ii in iis:\n",
    "                if liesInCircle(ii[0, 0], ii[0, 1], perms[perm][1][0], perms[perm][1][1], perms[perm][2]):\n",
    "                    aas[perm][0], aas[perm][1] = ii[0, 0], ii[0, 1]\n",
    "                    valid = True\n",
    "                    break\n",
    "            if not valid:\n",
    "                return min(areaOverlap(np.array([np.array([x1, y1])]), np.array([np.array([x3, y3])]), R1, R3)[0],\n",
    "                           areaOverlap(np.array([np.array([x2, y2])]), np.array([np.array([x3, y3])]), R2, R3)[0])\n",
    "        perms = [[r1, [aas[1], aas[2]]], [r2, [aas[0], aas[2]]], [r3, [aas[0], aas[1]]]]\n",
    "        for perm in range(len(perms)):\n",
    "            for ii in range(len(perms[perm][1])):\n",
    "                bs[perm][ii] = perms[perm][1][ii] - perms[perm][0]\n",
    "        for b in range(len(bs)):\n",
    "            sidelens[b] = np.linalg.norm(bs[b, 0] - bs[b, 1])\n",
    "            x = Rs[b] * np.cos(np.arccos(bs[b, 0]@bs[b, 1]/Rs[b]**2)/2)\n",
    "            areas[b] = Rs[b]**2 * np.pi/2 - Rs[b]**2 * np.arcsin(x/Rs[b]) - x*np.sqrt(Rs[b]**2-x**2)\n",
    "        S = np.sum(sidelens)/2\n",
    "        return np.sum(areas) + np.sqrt(S*(S-sidelens[0])*(S-sidelens[1])*(S-sidelens[2])) #use heron's formula for tri area\n",
    "    \n",
    "def transitDepth(r1s, r2s, rss, R1, R2, Rs, iterations=10000):\n",
    "    radii = np.append(np.append(np.full(iterations, R1), np.full(iterations, R2)), \n",
    "              np.full(iterations, Rs)).reshape(3, iterations).T\n",
    "    inputarr = np.append(np.append(np.append(r1s, r2s, axis=1), rss, axis=1), radii, axis=1)\n",
    "    threeAreas = np.apply_along_axis(threeAreaOverlap, 1, inputarr)\n",
    "    return (areaOverlap(r1s, rss, R1, Rs) + areaOverlap(r2s, rss, R2, Rs) - threeAreas) / (np.pi * Rs**2)"
   ]
  },
  {
   "cell_type": "code",
   "execution_count": 6,
   "metadata": {},
   "outputs": [
    {
     "data": {
      "image/png": "[encoded data removed]",
      "text/plain": [
       "<Figure size 432x288 with 1 Axes>"
      ]
     },
     "metadata": {
      "needs_background": "light"
     },
     "output_type": "display_data"
    },
    {
     "name": "stderr",
     "output_type": "stream",
     "text": [
      "<ipython-input-2-1846ec5db49d>:50: RuntimeWarning: invalid value encountered in arccos\n",
      "  A = R1**2 * np.arccos(d1/R1) - d1*np.sqrt(R1**2-d1**2) + R2**2 * np.arccos(d2/R2) - d2*np.sqrt(R2**2-d2**2) # intersection area\n",
      "<ipython-input-2-1846ec5db49d>:50: RuntimeWarning: invalid value encountered in sqrt\n",
      "  A = R1**2 * np.arccos(d1/R1) - d1*np.sqrt(R1**2-d1**2) + R2**2 * np.arccos(d2/R2) - d2*np.sqrt(R2**2-d2**2) # intersection area\n"
     ]
    },
    {
     "data": {
      "text/plain": [
       "Text(0, 0.5, 'F')"
      ]
     },
     "execution_count": 6,
     "metadata": {},
     "output_type": "execute_result"
    },
    {
     "data": {
      "image/png": "[encoded data removed]",
      "text/plain": [
       "<Figure size 432x288 with 1 Axes>"
      ]
     },
     "metadata": {
      "needs_background": "light"
     },
     "output_type": "display_data"
    }
   ],
   "source": [
    "simlen=11. #total sim running time [hrs]\n",
    "dt=0.005 #step size [hrs]\n",
    "Rp = 1\n",
    "Rs = 1\n",
    "asp=2\n",
    "Rs = 9.73\n",
    "P = 60*24 #stellarcentric orbital period [hrs]\n",
    "a = 628*(P/(60*24))**(2./3.)\n",
    "vbary = 2*np.pi*a/P\n",
    "it = int(simlen/dt)\n",
    "\n",
    "phi=0\n",
    "bary_motion = np.append(-15.+np.arange(dt, vbary*dt*it, vbary*dt), np.zeros(it)).reshape(2, it).T\n",
    "r1s, r2s = simulateorbits(i=0, R1=Rs, R2=Rp, anorm=asp, e=0, tau1=phi, tau2=phi+np.pi, Pbin=Pbin(R1,R2,asp),\n",
    "                          t=0, simlen=simlen, dt=dt) + bary_motion\n",
    "rss = np.zeros((it, 2))\n",
    "\n",
    "plt.figure()\n",
    "plt.plot(np.arange(0,simlen,dt), r1s[:, 0], label='p1', color='red')\n",
    "plt.plot(np.arange(0,simlen,dt), r2s[:, 0], label='p2', color='blue')\n",
    "plt.plot(np.arange(0,simlen,dt), rss[:, 0], label='star', color='yellow')\n",
    "plt.plot(np.arange(0,simlen,dt), rss[:, 0]+Rs/2, ls='--', color='yellow')\n",
    "plt.plot(np.arange(0,simlen,dt), rss[:, 0]-Rs/2, ls='--', color='yellow')\n",
    "plt.xlabel('t [hr]')\n",
    "plt.ylabel('x')\n",
    "plt.legend()\n",
    "plt.show()\n",
    "plt.clf()\n",
    "\n",
    "delta = transitDepth(r1s, r2s, rss, R1, R2, Rs, iterations=it)\n",
    "F = np.full(it, 1) - delta\n",
    "plt.plot(np.arange(0,simlen,dt), F)\n",
    "plt.xlabel('t [hr]')\n",
    "plt.ylabel('F')"
   ]
  },
  {
   "cell_type": "code",
   "execution_count": 11,
   "metadata": {
    "scrolled": false
   },
   "outputs": [
    {
     "name": "stderr",
     "output_type": "stream",
     "text": [
      "<ipython-input-2-1846ec5db49d>:50: RuntimeWarning: invalid value encountered in arccos\n",
      "  A = R1**2 * np.arccos(d1/R1) - d1*np.sqrt(R1**2-d1**2) + R2**2 * np.arccos(d2/R2) - d2*np.sqrt(R2**2-d2**2) # intersection area\n",
      "<ipython-input-2-1846ec5db49d>:50: RuntimeWarning: invalid value encountered in sqrt\n",
      "  A = R1**2 * np.arccos(d1/R1) - d1*np.sqrt(R1**2-d1**2) + R2**2 * np.arccos(d2/R2) - d2*np.sqrt(R2**2-d2**2) # intersection area\n"
     ]
    },
    {
     "name": "stdout",
     "output_type": "stream",
     "text": [
      "0\n",
      "10\n",
      "20\n",
      "30\n",
      "40\n",
      "50\n",
      "60\n",
      "70\n",
      "80\n",
      "90\n",
      "100\n",
      "110\n",
      "120\n",
      "130\n",
      "140\n",
      "150\n",
      "160\n",
      "170\n",
      "180\n",
      "190\n"
     ]
    },
    {
     "data": {
      "text/plain": [
       "[<matplotlib.lines.Line2D at 0x7f1e9aec3e50>]"
      ]
     },
     "execution_count": 11,
     "metadata": {},
     "output_type": "execute_result"
    },
    {
     "data": {
      "image/png": "[encoded data removed]",
      "text/plain": [
       "<Figure size 432x288 with 1 Axes>"
      ]
     },
     "metadata": {
      "needs_background": "light"
     },
     "output_type": "display_data"
    }
   ],
   "source": [
    "simlen=11. #total sim running time [hrs]\n",
    "dt=0.005 #step size [hrs]\n",
    "Rp = 1.\n",
    "Rs = 1.\n",
    "asp = 2.\n",
    "Rstar = 9.73\n",
    "P = 60*24 #stellarcentric orbital period [hrs]\n",
    "a = 628*(P/(60*24))**(2./3.)\n",
    "vbary = 2*np.pi*a/P\n",
    "it = int(simlen/dt)\n",
    "\n",
    "runs = 200\n",
    "phis = np.linspace(0, 2*np.pi, runs)\n",
    "tdurs = np.zeros(runs)\n",
    "for run in range(runs):\n",
    "    phi = phis[run]\n",
    "    bary_motion = np.append(-15.+np.arange(dt, vbary*dt*it, vbary*dt), np.zeros(it)).reshape(2, it).T\n",
    "    r1s, r2s = simulateorbits(i=0, R1=Rp, R2=Rs, anorm=asp, e=0, tau1=phi, tau2=phi+np.pi, Pbin=Pbin(R1,R2,asp),\n",
    "                              t=0, simlen=simlen, dt=dt) + bary_motion\n",
    "    rss = np.zeros((it, 2))\n",
    "\n",
    "#     plt.figure()\n",
    "#     plt.plot(np.arange(0,simlen,dt), r1s[:, 0], label='p1', color='red')\n",
    "#     plt.plot(np.arange(0,simlen,dt), r2s[:, 0], label='p2', color='blue')\n",
    "#     plt.plot(np.arange(0,simlen,dt), rss[:, 0], label='star', color='yellow')\n",
    "#     plt.plot(np.arange(0,simlen,dt), rss[:, 0]+Rs/2, ls='--', color='yellow')\n",
    "#     plt.plot(np.arange(0,simlen,dt), rss[:, 0]-Rs/2, ls='--', color='yellow')\n",
    "#     plt.xlabel('t [hr]')\n",
    "#     plt.ylabel('x')\n",
    "#     plt.legend()\n",
    "#     plt.show()\n",
    "#     plt.clf()\n",
    "\n",
    "    delta = transitDepth(r1s, r2s, rss, R1, R2, Rstar, iterations=it)\n",
    "    F = np.full(it, 1) - delta\n",
    "#     plt.plot(np.arange(0,simlen,dt), F)\n",
    "#     plt.xlabel('t [hr]')\n",
    "#     plt.ylabel('F')\n",
    "#     plt.show()\n",
    "#     plt.clf()\n",
    "    \n",
    "    tdur = np.ptp(np.where(F<1))*dt\n",
    "    tdurs[run] = tdur\n",
    "    if run%10 == 0:\n",
    "        print(run)\n",
    "plt.plot(tdurs)"
   ]
  },
  {
   "cell_type": "code",
   "execution_count": null,
   "metadata": {},
   "outputs": [],
   "source": []
  }
 ],
 "metadata": {
  "kernelspec": {
   "display_name": "Python 3",
   "language": "python",
   "name": "python3"
  },
  "language_info": {
   "codemirror_mode": {
    "name": "ipython",
    "version": 3
   },
   "file_extension": ".py",
   "mimetype": "text/x-python",
   "name": "python",
   "nbconvert_exporter": "python",
   "pygments_lexer": "ipython3",
   "version": "3.8.5"
  }
 },
 "nbformat": 4,
 "nbformat_minor": 4
}
